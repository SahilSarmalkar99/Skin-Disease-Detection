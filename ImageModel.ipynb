{
 "cells": [
  {
   "cell_type": "code",
   "execution_count": 1,
   "id": "6a597376-8c72-4c16-9a2c-09a193393fd5",
   "metadata": {
    "scrolled": true
   },
   "outputs": [
    {
     "name": "stdout",
     "output_type": "stream",
     "text": [
      "[PhysicalDevice(name='/physical_device:GPU:0', device_type='GPU')]\n"
     ]
    }
   ],
   "source": [
    "import tensorflow as tf\n",
    "print(tf.config.list_physical_devices('GPU'))"
   ]
  },
  {
   "cell_type": "code",
   "execution_count": 2,
   "id": "32e22e72-3b0b-465b-b417-2bfe99ba8584",
   "metadata": {},
   "outputs": [],
   "source": [
    "import tensorflow as tf\n",
    "from tensorflow.keras.preprocessing.image import ImageDataGenerator\n",
    "from tensorflow.keras.applications import ResNet50\n",
    "from tensorflow.keras.layers import GlobalAveragePooling2D, Dense, Dropout\n",
    "from tensorflow.keras.models import Model\n",
    "from tensorflow.keras.callbacks import EarlyStopping, ReduceLROnPlateau, ModelCheckpoint\n",
    "from sklearn.metrics import confusion_matrix, classification_report\n",
    "import matplotlib.pyplot as plt\n",
    "import seaborn as sns\n",
    "import numpy as np"
   ]
  },
  {
   "cell_type": "code",
   "execution_count": null,
   "id": "41dc47d2-42cd-4337-9f53-681acbe4cc34",
   "metadata": {},
   "outputs": [],
   "source": []
  },
  {
   "cell_type": "code",
   "execution_count": 3,
   "id": "afe5e543-df47-4b4e-83ae-ccbba4c122dc",
   "metadata": {},
   "outputs": [],
   "source": [
    "IMAGE_SIZE = (224, 224)\n",
    "BATCH_SIZE = 32\n",
    "NUM_CLASSES = 5\n",
    "DATA_DIR = \"D:\\my notebook\\AIH\\Skin Dieseas Detection\""
   ]
  },
  {
   "cell_type": "code",
   "execution_count": null,
   "id": "95ba2728-8099-40a2-8814-ca7ae0a8d537",
   "metadata": {},
   "outputs": [],
   "source": []
  },
  {
   "cell_type": "code",
   "execution_count": 4,
   "id": "35073cce-35cc-4dd1-8bcf-f4c25723dc2e",
   "metadata": {},
   "outputs": [
    {
     "name": "stdout",
     "output_type": "stream",
     "text": [
      "Found 9108 images belonging to 5 classes.\n",
      "Found 2274 images belonging to 5 classes.\n"
     ]
    }
   ],
   "source": [
    "train_datagen = ImageDataGenerator(\n",
    "    rescale=1.0/255,\n",
    "    rotation_range=10,\n",
    "    zoom_range=0.1,\n",
    "    horizontal_flip=True,\n",
    "    validation_split=0.2\n",
    ")\n",
    "\n",
    "train_generator = train_datagen.flow_from_directory(\n",
    "    DATA_DIR,\n",
    "    target_size=IMAGE_SIZE,\n",
    "    batch_size=BATCH_SIZE,\n",
    "    class_mode='categorical',\n",
    "    subset='training'\n",
    ")\n",
    "\n",
    "val_generator = train_datagen.flow_from_directory(\n",
    "    DATA_DIR,\n",
    "    target_size=IMAGE_SIZE,\n",
    "    batch_size=BATCH_SIZE,\n",
    "    class_mode='categorical',\n",
    "    subset='validation',\n",
    "    shuffle=False  # Important for prediction alignment\n",
    ")\n",
    "\n",
    "class_labels = list(train_generator.class_indices.keys())"
   ]
  },
  {
   "cell_type": "code",
   "execution_count": null,
   "id": "9c2a6247-a399-44a8-9b2c-b7a45a6d42a8",
   "metadata": {},
   "outputs": [],
   "source": []
  },
  {
   "cell_type": "markdown",
   "id": "1b7a6387-f450-4ee0-a90b-ab36d81e3e75",
   "metadata": {},
   "source": [
    "#ResNet"
   ]
  },
  {
   "cell_type": "code",
   "execution_count": 5,
   "id": "9e46c811-4d39-4bb2-a64d-2c996956b1d3",
   "metadata": {},
   "outputs": [],
   "source": [
    "base_model = ResNet50(weights='imagenet', include_top=False, input_shape=(224, 224, 3))\n",
    "base_model.trainable = False  # Freeze base\n",
    "\n",
    "x = base_model.output\n",
    "x = GlobalAveragePooling2D()(x)\n",
    "x = Dropout(0.4)(x)\n",
    "output = Dense(NUM_CLASSES, activation='softmax')(x)\n",
    "\n",
    "model = Model(inputs=base_model.input, outputs=output)\n",
    "\n",
    "model.compile(optimizer=tf.keras.optimizers.Adam(learning_rate=1e-4),\n",
    "              loss='categorical_crossentropy',\n",
    "              metrics=['accuracy'])\n"
   ]
  },
  {
   "cell_type": "code",
   "execution_count": 6,
   "id": "e4293def-b93c-494f-9e73-187484046d20",
   "metadata": {},
   "outputs": [],
   "source": [
    "early_stop = EarlyStopping(monitor='val_loss', patience=5, restore_best_weights=True)\n",
    "lr_scheduler = ReduceLROnPlateau(monitor='val_loss', factor=0.2, patience=3, min_lr=1e-6)\n",
    "checkpoint = ModelCheckpoint(\"best_model.h5\", monitor=\"val_accuracy\", save_best_only=True)"
   ]
  },
  {
   "cell_type": "code",
   "execution_count": 7,
   "id": "269d363a-f431-4d72-9e4d-3b96a619aa03",
   "metadata": {},
   "outputs": [
    {
     "name": "stdout",
     "output_type": "stream",
     "text": [
      "Epoch 1/15\n",
      "285/285 [==============================] - 118s 379ms/step - loss: 1.7805 - accuracy: 0.2034 - val_loss: 1.5981 - val_accuracy: 0.3281 - lr: 1.0000e-04\n",
      "Epoch 2/15\n",
      "285/285 [==============================] - 108s 378ms/step - loss: 1.6984 - accuracy: 0.2060 - val_loss: 1.5976 - val_accuracy: 0.2405 - lr: 1.0000e-04\n",
      "Epoch 3/15\n",
      "285/285 [==============================] - 161s 564ms/step - loss: 1.6647 - accuracy: 0.2053 - val_loss: 1.5936 - val_accuracy: 0.3588 - lr: 1.0000e-04\n",
      "Epoch 4/15\n",
      "285/285 [==============================] - 152s 533ms/step - loss: 1.6326 - accuracy: 0.2235 - val_loss: 1.5928 - val_accuracy: 0.2564 - lr: 1.0000e-04\n",
      "Epoch 5/15\n",
      "285/285 [==============================] - 97s 340ms/step - loss: 1.6149 - accuracy: 0.2331 - val_loss: 1.5902 - val_accuracy: 0.2854 - lr: 1.0000e-04\n",
      "Epoch 6/15\n",
      "285/285 [==============================] - 99s 348ms/step - loss: 1.6111 - accuracy: 0.2294 - val_loss: 1.5888 - val_accuracy: 0.2221 - lr: 1.0000e-04\n",
      "Epoch 7/15\n",
      "285/285 [==============================] - 100s 351ms/step - loss: 1.5983 - accuracy: 0.2390 - val_loss: 1.5868 - val_accuracy: 0.3456 - lr: 1.0000e-04\n",
      "Epoch 8/15\n",
      "285/285 [==============================] - 98s 343ms/step - loss: 1.5919 - accuracy: 0.2508 - val_loss: 1.5846 - val_accuracy: 0.2682 - lr: 1.0000e-04\n",
      "Epoch 9/15\n",
      "285/285 [==============================] - 95s 332ms/step - loss: 1.5863 - accuracy: 0.2497 - val_loss: 1.5825 - val_accuracy: 0.3263 - lr: 1.0000e-04\n",
      "Epoch 10/15\n",
      "285/285 [==============================] - 95s 332ms/step - loss: 1.5782 - accuracy: 0.2625 - val_loss: 1.5829 - val_accuracy: 0.3408 - lr: 1.0000e-04\n",
      "Epoch 11/15\n",
      "285/285 [==============================] - 96s 336ms/step - loss: 1.5770 - accuracy: 0.2689 - val_loss: 1.5779 - val_accuracy: 0.3870 - lr: 1.0000e-04\n",
      "Epoch 12/15\n",
      "285/285 [==============================] - 95s 332ms/step - loss: 1.5694 - accuracy: 0.2801 - val_loss: 1.5785 - val_accuracy: 0.2568 - lr: 1.0000e-04\n",
      "Epoch 13/15\n",
      "285/285 [==============================] - 97s 339ms/step - loss: 1.5654 - accuracy: 0.2803 - val_loss: 1.5764 - val_accuracy: 0.2744 - lr: 1.0000e-04\n",
      "Epoch 14/15\n",
      "285/285 [==============================] - 97s 341ms/step - loss: 1.5625 - accuracy: 0.2823 - val_loss: 1.5748 - val_accuracy: 0.3030 - lr: 1.0000e-04\n",
      "Epoch 15/15\n",
      "285/285 [==============================] - 98s 343ms/step - loss: 1.5563 - accuracy: 0.2913 - val_loss: 1.5728 - val_accuracy: 0.3883 - lr: 1.0000e-04\n"
     ]
    }
   ],
   "source": [
    "history = model.fit(\n",
    "    train_generator,\n",
    "    validation_data=val_generator,\n",
    "    epochs=15,\n",
    "    callbacks=[early_stop, lr_scheduler, checkpoint]\n",
    ")"
   ]
  },
  {
   "cell_type": "code",
   "execution_count": 8,
   "id": "719c5140-e301-45db-82f5-a46647e93b64",
   "metadata": {},
   "outputs": [
    {
     "name": "stdout",
     "output_type": "stream",
     "text": [
      "Epoch 1/10\n",
      "285/285 [==============================] - 102s 344ms/step - loss: 1.3025 - accuracy: 0.5415 - val_loss: 1.5254 - val_accuracy: 0.3826 - lr: 1.0000e-05\n",
      "Epoch 2/10\n",
      "285/285 [==============================] - 96s 337ms/step - loss: 0.7258 - accuracy: 0.7049 - val_loss: 1.0311 - val_accuracy: 0.5493 - lr: 1.0000e-05\n",
      "Epoch 3/10\n",
      "285/285 [==============================] - 97s 340ms/step - loss: 0.6299 - accuracy: 0.7452 - val_loss: 0.9451 - val_accuracy: 0.6271 - lr: 1.0000e-05\n",
      "Epoch 4/10\n",
      "285/285 [==============================] - 96s 336ms/step - loss: 0.5715 - accuracy: 0.7725 - val_loss: 1.1460 - val_accuracy: 0.6310 - lr: 1.0000e-05\n",
      "Epoch 5/10\n",
      "285/285 [==============================] - 96s 337ms/step - loss: 0.5055 - accuracy: 0.7996 - val_loss: 1.4223 - val_accuracy: 0.5501 - lr: 1.0000e-05\n",
      "Epoch 6/10\n",
      "285/285 [==============================] - 98s 343ms/step - loss: 0.4643 - accuracy: 0.8158 - val_loss: 2.6939 - val_accuracy: 0.3852 - lr: 1.0000e-05\n",
      "Epoch 7/10\n",
      "285/285 [==============================] - 98s 345ms/step - loss: 0.3892 - accuracy: 0.8517 - val_loss: 0.5975 - val_accuracy: 0.7911 - lr: 2.0000e-06\n",
      "Epoch 8/10\n",
      "285/285 [==============================] - 97s 339ms/step - loss: 0.3545 - accuracy: 0.8651 - val_loss: 0.6640 - val_accuracy: 0.7885 - lr: 2.0000e-06\n",
      "Epoch 9/10\n",
      "285/285 [==============================] - 155s 543ms/step - loss: 0.3369 - accuracy: 0.8741 - val_loss: 0.6900 - val_accuracy: 0.7612 - lr: 2.0000e-06\n",
      "Epoch 10/10\n",
      "285/285 [==============================] - 212s 744ms/step - loss: 0.3170 - accuracy: 0.8803 - val_loss: 0.7136 - val_accuracy: 0.7388 - lr: 2.0000e-06\n"
     ]
    }
   ],
   "source": [
    "base_model.trainable = True\n",
    "for layer in base_model.layers[:-30]:  # Unfreeze last 30 layers only\n",
    "    layer.trainable = False\n",
    "\n",
    "model.compile(optimizer=tf.keras.optimizers.Adam(learning_rate=1e-5),\n",
    "              loss='categorical_crossentropy',\n",
    "              metrics=['accuracy'])\n",
    "\n",
    "fine_tune_history = model.fit(\n",
    "    train_generator,\n",
    "    validation_data=val_generator,\n",
    "    epochs=10,\n",
    "    callbacks=[early_stop, lr_scheduler]\n",
    ")"
   ]
  },
  {
   "cell_type": "code",
   "execution_count": 9,
   "id": "91aec9a5-8dab-411a-9406-198c3568e4be",
   "metadata": {},
   "outputs": [
    {
     "name": "stdout",
     "output_type": "stream",
     "text": [
      "72/72 [==============================] - 52s 697ms/step\n"
     ]
    }
   ],
   "source": [
    "val_generator.reset()\n",
    "preds = model.predict(val_generator)\n",
    "val_preds = np.argmax(preds, axis=1)\n",
    "val_true = val_generator.classes"
   ]
  },
  {
   "cell_type": "code",
   "execution_count": 10,
   "id": "c5e6d437-bd87-4366-a9e9-ae8b39c228b3",
   "metadata": {},
   "outputs": [
    {
     "name": "stdout",
     "output_type": "stream",
     "text": [
      "\n",
      "Classification Report:\n",
      "                   precision    recall  f1-score   support\n",
      "\n",
      "           Eczema       0.97      0.96      0.97       476\n",
      "      Skin Cancer       1.00      0.78      0.88       459\n",
      "         Vitiligo       0.44      0.87      0.59       460\n",
      "             acne       0.89      0.43      0.58       459\n",
      "hyperpigmentation       0.79      0.61      0.69       420\n",
      "\n",
      "         accuracy                           0.73      2274\n",
      "        macro avg       0.82      0.73      0.74      2274\n",
      "     weighted avg       0.82      0.73      0.74      2274\n",
      "\n"
     ]
    }
   ],
   "source": [
    "print(\"\\nClassification Report:\")\n",
    "print(classification_report(val_true, val_preds, target_names=class_labels))"
   ]
  },
  {
   "cell_type": "code",
   "execution_count": 11,
   "id": "d2bd0730-9833-4896-91c7-646428a3b770",
   "metadata": {},
   "outputs": [
    {
     "data": {
      "image/png": "[encoded data removed]",
      "text/plain": [
       "<Figure size 800x600 with 2 Axes>"
      ]
     },
     "metadata": {},
     "output_type": "display_data"
    }
   ],
   "source": [
    "cm = confusion_matrix(val_true, val_preds)\n",
    "plt.figure(figsize=(8, 6))\n",
    "sns.heatmap(cm, annot=True, fmt='d', cmap='Blues', xticklabels=class_labels, yticklabels=class_labels)\n",
    "plt.xlabel('Predicted')\n",
    "plt.ylabel('True')\n",
    "plt.title('Confusion Matrix')\n",
    "plt.show()"
   ]
  },
  {
   "cell_type": "code",
   "execution_count": null,
   "id": "82d0cb51-7596-4319-b96c-5f59dc8c69ca",
   "metadata": {},
   "outputs": [],
   "source": []
  },
  {
   "cell_type": "markdown",
   "id": "1e0be262-33d1-42b6-a5e6-2524d8390ac8",
   "metadata": {},
   "source": [
    "<!--loss: 0.3170 - accuracy: 0.8803 - val_loss: 0.7136 - val_accuracy: 0.7388 - lr: 2.0000e-06 -->"
   ]
  },
  {
   "cell_type": "code",
   "execution_count": 12,
   "id": "0393b829-5cd7-4586-ab43-cfe175e5dc96",
   "metadata": {},
   "outputs": [],
   "source": [
    "from tensorflow.keras.preprocessing import image"
   ]
  },
  {
   "cell_type": "code",
   "execution_count": 24,
   "id": "21422254-c0da-4ed9-be28-5eba8883d8db",
   "metadata": {},
   "outputs": [],
   "source": [
    "img_path =r\"D:\\my notebook\\AIH\\vit.jpeg\"\n",
    "img = image.load_img(img_path,target_size=(224 , 224))\n",
    "x = image.img_to_array(img)\n",
    "x = x/255.0\n",
    "x = np.expand_dims(x, axis=0)"
   ]
  },
  {
   "cell_type": "code",
   "execution_count": 25,
   "id": "336ece98-ec3e-4519-82f2-30b6efcca91e",
   "metadata": {},
   "outputs": [
    {
     "name": "stdout",
     "output_type": "stream",
     "text": [
      "1/1 [==============================] - 0s 56ms/step\n",
      "Predicted: [[2.0288301e-03 2.6155653e-12 9.9795306e-01 1.0187830e-05 7.8466337e-06]]\n"
     ]
    }
   ],
   "source": [
    "preds = model.predict(x)\n",
    "print(\"Predicted:\",preds)"
   ]
  },
  {
   "cell_type": "code",
   "execution_count": null,
   "id": "f749a16e-7a0c-4d92-9f95-bb4aa710b1ec",
   "metadata": {},
   "outputs": [],
   "source": []
  },
  {
   "cell_type": "code",
   "execution_count": 27,
   "id": "e416a1d5-a79d-4a92-b038-6f5a6f51cd38",
   "metadata": {},
   "outputs": [
    {
     "name": "stdout",
     "output_type": "stream",
     "text": [
      "Predicted class: Vitiligo\n"
     ]
    }
   ],
   "source": [
    "import numpy as np\n",
    "\n",
    "# Get index of highest probability\n",
    "\n",
    "predicted_class_index = np.argmax(preds)\n",
    "# Get class name\n",
    "predicted_class_name = class_labels[predicted_class_index]\n",
    "\n",
    "print(\"Predicted class:\", predicted_class_name)\n"
   ]
  },
  {
   "cell_type": "code",
   "execution_count": 28,
   "id": "9eb70ec5-e4eb-43e2-98ff-e898f8fbc576",
   "metadata": {},
   "outputs": [],
   "source": [
    "model.save(\"resnet50_classifier.h5\")"
   ]
  },
  {
   "cell_type": "code",
   "execution_count": 29,
   "id": "21232857-3509-4491-a02d-6853d2ab9d63",
   "metadata": {},
   "outputs": [
    {
     "name": "stdout",
     "output_type": "stream",
     "text": [
      "{'Eczema': 0, 'Skin Cancer': 1, 'Vitiligo': 2, 'acne': 3, 'hyperpigmentation': 4}\n",
      "9108\n"
     ]
    }
   ],
   "source": [
    "print(train_generator.class_indices)\n",
    "print(train_generator.samples)\n"
   ]
  },
  {
   "cell_type": "code",
   "execution_count": null,
   "id": "dc3275ef-6782-441f-8184-9f909e3a0420",
   "metadata": {},
   "outputs": [],
   "source": []
  }
 ],
 "metadata": {
  "kernelspec": {
   "display_name": "Python 3 (ipykernel)",
   "language": "python",
   "name": "python3"
  },
  "language_info": {
   "codemirror_mode": {
    "name": "ipython",
    "version": 3
   },
   "file_extension": ".py",
   "mimetype": "text/x-python",
   "name": "python",
   "nbconvert_exporter": "python",
   "pygments_lexer": "ipython3",
   "version": "3.9.23"
  }
 },
 "nbformat": 4,
 "nbformat_minor": 5
}
